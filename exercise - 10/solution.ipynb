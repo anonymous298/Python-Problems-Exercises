{
 "cells": [
  {
   "cell_type": "markdown",
   "metadata": {},
   "source": [
    "### Problem Solution 1"
   ]
  },
  {
   "cell_type": "code",
   "execution_count": 3,
   "metadata": {},
   "outputs": [
    {
     "name": "stdout",
     "output_type": "stream",
     "text": [
      "Executed\n"
     ]
    },
    {
     "data": {
      "text/plain": [
       "1.0"
      ]
     },
     "execution_count": 3,
     "metadata": {},
     "output_type": "execute_result"
    }
   ],
   "source": [
    "def division(a, b):\n",
    "    try:\n",
    "        return a / b\n",
    "\n",
    "    except ZeroDivisionError as e:\n",
    "        print(e)\n",
    "\n",
    "    except Exception as e:\n",
    "        print(e)\n",
    "\n",
    "    finally:\n",
    "        print('Executed')\n",
    "\n",
    "division(10, 10)"
   ]
  },
  {
   "cell_type": "markdown",
   "metadata": {},
   "source": [
    "### Problem Solution 2"
   ]
  },
  {
   "cell_type": "code",
   "execution_count": 1,
   "metadata": {},
   "outputs": [
    {
     "name": "stdout",
     "output_type": "stream",
     "text": [
      "[Errno 2] No such file or directory: 'data.txt'\n",
      "Executed\n"
     ]
    }
   ],
   "source": [
    "def file_reader(file):\n",
    "    try:\n",
    "        with open(file, 'r') as f:\n",
    "            content = f.read()\n",
    "            print(content)\n",
    "\n",
    "    except FileNotFoundError as e:\n",
    "        print(e)\n",
    "\n",
    "    finally:\n",
    "        print('Executed')\n",
    "\n",
    "file_reader('data.txt')"
   ]
  },
  {
   "cell_type": "markdown",
   "metadata": {},
   "source": [
    "### Problem Solution 3"
   ]
  },
  {
   "cell_type": "code",
   "execution_count": 2,
   "metadata": {},
   "outputs": [
    {
     "name": "stdout",
     "output_type": "stream",
     "text": [
      "Executed\n"
     ]
    },
    {
     "data": {
      "text/plain": [
       "15"
      ]
     },
     "execution_count": 2,
     "metadata": {},
     "output_type": "execute_result"
    }
   ],
   "source": [
    "def lst_sum(lst):\n",
    "    try:\n",
    "        return sum(lst)\n",
    "\n",
    "    except TypeError as e:\n",
    "        print(e)\n",
    "\n",
    "    except Exception as e:\n",
    "        print(e)\n",
    "\n",
    "    finally:\n",
    "        print('Executed')\n",
    "\n",
    "lst_sum([1,2,3,4,5])"
   ]
  },
  {
   "cell_type": "markdown",
   "metadata": {},
   "source": [
    "### Problem Solution 4"
   ]
  },
  {
   "cell_type": "code",
   "execution_count": 4,
   "metadata": {},
   "outputs": [
    {
     "name": "stdout",
     "output_type": "stream",
     "text": [
      "invalid literal for int() with base 10: 'd'\n",
      "Executed\n"
     ]
    }
   ],
   "source": [
    "def user_input():\n",
    "    try:\n",
    "        user = int(input('Enter an integer: '))\n",
    "\n",
    "    except ValueError as e:\n",
    "        print(e)\n",
    "\n",
    "    except Exception as e:\n",
    "        print(e)\n",
    "\n",
    "    finally:\n",
    "        print('Executed')\n",
    "\n",
    "user_input()"
   ]
  },
  {
   "cell_type": "markdown",
   "metadata": {},
   "source": [
    "### Problem Solution 5"
   ]
  },
  {
   "cell_type": "code",
   "execution_count": 7,
   "metadata": {},
   "outputs": [
    {
     "name": "stdout",
     "output_type": "stream",
     "text": [
      "Key not found 'profession'\n",
      "Executed\n"
     ]
    }
   ],
   "source": [
    "def dictonary(dic, key):\n",
    "    try:\n",
    "        return dic[key]\n",
    "\n",
    "    except KeyError as e:\n",
    "        print(f'Key not found {e}')\n",
    "\n",
    "    except Exception as e:\n",
    "        print(e)\n",
    "\n",
    "    finally:\n",
    "        print('Executed')\n",
    "\n",
    "dic = {'name' : 'talha', 'age' : 17, 'gender' : 'male'}\n",
    "dictonary(dic, 'profession')"
   ]
  },
  {
   "cell_type": "markdown",
   "metadata": {},
   "source": [
    "### Problem Solution 6"
   ]
  },
  {
   "cell_type": "code",
   "execution_count": 20,
   "metadata": {},
   "outputs": [
    {
     "data": {
      "text/plain": [
       "3.5"
      ]
     },
     "execution_count": 20,
     "metadata": {},
     "output_type": "execute_result"
    }
   ],
   "source": [
    "def nested(value):\n",
    "    try:\n",
    "        value = int(value)\n",
    "\n",
    "        try:\n",
    "            division = value / 2\n",
    "            return division\n",
    "\n",
    "        except Exception as e:\n",
    "            print(e)\n",
    "\n",
    "    except ValueError as e:\n",
    "        print(e) \n",
    "\n",
    "nested(7)"
   ]
  },
  {
   "cell_type": "markdown",
   "metadata": {},
   "source": [
    "### Problem Solution 7"
   ]
  },
  {
   "cell_type": "code",
   "execution_count": 22,
   "metadata": {},
   "outputs": [
    {
     "name": "stdout",
     "output_type": "stream",
     "text": [
      "list index out of range\n"
     ]
    }
   ],
   "source": [
    "def list_viewer(lst, index):\n",
    "    try:\n",
    "        return lst[index]\n",
    "\n",
    "    except IndexError as e:\n",
    "        print(e)\n",
    "\n",
    "lst = [i for i in range(10)]\n",
    "list_viewer(lst, 10)"
   ]
  },
  {
   "cell_type": "markdown",
   "metadata": {},
   "source": [
    "### Problem Solution 8"
   ]
  },
  {
   "cell_type": "code",
   "execution_count": 29,
   "metadata": {},
   "outputs": [
    {
     "name": "stdout",
     "output_type": "stream",
     "text": [
      "HTTPSConnectionPool(host='www.googlo.com', port=443): Max retries exceeded with url: / (Caused by NameResolutionError(\"<urllib3.connection.HTTPSConnection object at 0x000001BB8DE2D1F0>: Failed to resolve 'www.googlo.com' ([Errno 11001] getaddrinfo failed)\"))\n"
     ]
    }
   ],
   "source": [
    "import requests\n",
    "\n",
    "def send_request(url):\n",
    "    try:\n",
    "        response = requests.get(url)\n",
    "        return response.status_code\n",
    "\n",
    "    except Exception as e:\n",
    "        print(e)\n",
    "\n",
    "send_request('https://www.googlo.com/')"
   ]
  },
  {
   "cell_type": "markdown",
   "metadata": {},
   "source": [
    "### Problem Solution 9"
   ]
  },
  {
   "cell_type": "code",
   "execution_count": 36,
   "metadata": {},
   "outputs": [
    {
     "data": {
      "text/plain": [
       "{'name': 'Alex Carter',\n",
       " 'age': 29,\n",
       " 'email': 'alex.carter@example.com',\n",
       " 'isActive': True,\n",
       " 'address': {'street': '123 Main St',\n",
       "  'city': 'New York',\n",
       "  'zip': '10001',\n",
       "  'country': 'USA'},\n",
       " 'hobbies': ['gaming', 'reading', 'traveling'],\n",
       " 'skills': {'programming': ['Python', 'JavaScript', 'C++'],\n",
       "  'AI': {'machine_learning': True,\n",
       "   'deep_learning': True,\n",
       "   'reinforcement_learning': False}},\n",
       " 'social_media': [{'platform': 'Twitter',\n",
       "   'username': '@alex_dev',\n",
       "   'followers': 4500},\n",
       "  {'platform': 'GitHub', 'username': 'alexcarter', 'repos': 24}],\n",
       " 'preferences': {'dark_mode': True,\n",
       "  'notifications': {'email': False, 'sms': True, 'push': True}},\n",
       " 'projects': [{'name': 'AI Chatbot',\n",
       "   'tech_stack': ['Python', 'TensorFlow', 'Flask'],\n",
       "   'completed': True},\n",
       "  {'name': 'Portfolio Website',\n",
       "   'tech_stack': ['HTML', 'CSS', 'JavaScript'],\n",
       "   'completed': False}],\n",
       " 'subscription': None}"
      ]
     },
     "execution_count": 36,
     "metadata": {},
     "output_type": "execute_result"
    }
   ],
   "source": [
    "import json\n",
    "\n",
    "def json_parser(json_string):\n",
    "    try:\n",
    "        python_data = json.loads(json_string)\n",
    "        return python_data\n",
    "\n",
    "    except Exception as e:\n",
    "        print(e)\n",
    "\n",
    "with open('data.json') as f:\n",
    "    json_data = f.read()\n",
    "\n",
    "json_parser(json_data)"
   ]
  },
  {
   "cell_type": "markdown",
   "metadata": {},
   "source": [
    "### Problem Solution 10"
   ]
  },
  {
   "cell_type": "code",
   "execution_count": 51,
   "metadata": {},
   "outputs": [
    {
     "name": "stdout",
     "output_type": "stream",
     "text": [
      "Put Greater Value Dumbo\n"
     ]
    }
   ],
   "source": [
    "class NegativeNumberError(Exception):\n",
    "    def __init__(self, msg):\n",
    "        self.msg = msg\n",
    "\n",
    "        super().__init__(self.msg)\n",
    "\n",
    "def lst_sum(lst):\n",
    "    try:\n",
    "        negative_value = [i for i in lst if i < 0]\n",
    "\n",
    "        if len(negative_value) >= 1:\n",
    "            raise NegativeNumberError('Put Greater Value Dumbo')\n",
    "\n",
    "        return sum(lst)\n",
    "\n",
    "    except Exception as e:\n",
    "        print(e)\n",
    "\n",
    "lst = [1,2,3,4,5,-6,7,8,9,10,1]\n",
    "lst_sum(lst)"
   ]
  },
  {
   "cell_type": "markdown",
   "metadata": {},
   "source": [
    "### Problem Solution 11"
   ]
  },
  {
   "cell_type": "code",
   "execution_count": 1,
   "metadata": {},
   "outputs": [
    {
     "name": "stdout",
     "output_type": "stream",
     "text": [
      "name 'math' is not defined\n"
     ]
    }
   ],
   "source": [
    "def function():\n",
    "    try:\n",
    "        math()\n",
    "\n",
    "    except Exception as e:\n",
    "        print(e)\n",
    "\n",
    "function()"
   ]
  },
  {
   "cell_type": "markdown",
   "metadata": {},
   "source": [
    "### Problem Solution 12"
   ]
  },
  {
   "cell_type": "code",
   "execution_count": 6,
   "metadata": {},
   "outputs": [
    {
     "name": "stdout",
     "output_type": "stream",
     "text": [
      "100\n",
      "division by zero\n"
     ]
    }
   ],
   "source": [
    "class Maths:\n",
    "\n",
    "    @staticmethod\n",
    "    def multiplication(a, b):\n",
    "        return a * b\n",
    "\n",
    "    @staticmethod\n",
    "    def division(a, b):\n",
    "        try:\n",
    "            return a / b\n",
    "\n",
    "        except Exception as e:\n",
    "            print(e)\n",
    "\n",
    "print(Maths.multiplication(10, 10))\n",
    "Maths.division(10, 0)"
   ]
  },
  {
   "cell_type": "markdown",
   "metadata": {},
   "source": [
    "### Problem Solution 13"
   ]
  },
  {
   "cell_type": "code",
   "execution_count": 11,
   "metadata": {},
   "outputs": [
    {
     "name": "stdout",
     "output_type": "stream",
     "text": [
      "[1, 2, 3, 4, 5]\n",
      "invalid literal for int() with base 10: 'talha'\n"
     ]
    }
   ],
   "source": [
    "def converter(lst):\n",
    "    try:\n",
    "        return [int(item) for item in lst]\n",
    "\n",
    "    except Exception as e:\n",
    "        print(e)\n",
    "\n",
    "names = ['talha', 'maheen', 'zaviayr']\n",
    "numbers = ['1', '2', '3', '4', '5']\n",
    "\n",
    "print(converter(numbers))\n",
    "converter(names)"
   ]
  },
  {
   "cell_type": "markdown",
   "metadata": {},
   "source": [
    "### Problem Solution 14"
   ]
  },
  {
   "cell_type": "code",
   "execution_count": 13,
   "metadata": {},
   "outputs": [],
   "source": [
    "def writer(file_name, lst):\n",
    "    try:\n",
    "        lst = [word + '\\n' for word in lst]\n",
    "        \n",
    "        file = open(file_name, 'w')\n",
    "        file.writelines(lst)\n",
    "\n",
    "    except Exception as e:\n",
    "        print(e)\n",
    "\n",
    "    finally:\n",
    "        file.close()\n",
    "\n",
    "lst = ['talha', 'maheen', 'zaviayar', 'huzaifa', 'affan']\n",
    "writer('file.txt', lst)"
   ]
  },
  {
   "cell_type": "code",
   "execution_count": null,
   "metadata": {},
   "outputs": [],
   "source": []
  }
 ],
 "metadata": {
  "kernelspec": {
   "display_name": "base",
   "language": "python",
   "name": "python3"
  },
  "language_info": {
   "codemirror_mode": {
    "name": "ipython",
    "version": 3
   },
   "file_extension": ".py",
   "mimetype": "text/x-python",
   "name": "python",
   "nbconvert_exporter": "python",
   "pygments_lexer": "ipython3",
   "version": "3.12.7"
  }
 },
 "nbformat": 4,
 "nbformat_minor": 2
}
