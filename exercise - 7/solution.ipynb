{
 "cells": [
  {
   "cell_type": "markdown",
   "metadata": {},
   "source": [
    "### Problem Solution 1"
   ]
  },
  {
   "cell_type": "code",
   "execution_count": 12,
   "metadata": {},
   "outputs": [
    {
     "name": "stdout",
     "output_type": "stream",
     "text": [
      "354224848179261915075\n"
     ]
    }
   ],
   "source": [
    "# Initialize a dictionary (cache) to store Fibonacci values\n",
    "memo = {}\n",
    "\n",
    "def fib_memo(n):\n",
    "    if n <= 1:\n",
    "        return n\n",
    "\n",
    "    # Check if result is already in the memo dictionary\n",
    "    if n not in memo:\n",
    "        # Compute it if not already present\n",
    "        memo[n] = fib_memo(n - 1) + fib_memo(n - 2)\n",
    "    \n",
    "    # Return the stored result\n",
    "    return memo[n]\n",
    "\n",
    "print(fib_memo(100))  # Outputs: 5\n"
   ]
  },
  {
   "cell_type": "markdown",
   "metadata": {},
   "source": [
    "### Problem Solution 2"
   ]
  },
  {
   "cell_type": "code",
   "execution_count": 15,
   "metadata": {},
   "outputs": [],
   "source": [
    "def function(a, b: dict = {}):\n",
    "    b[a] = a\n",
    "\n",
    "    return b"
   ]
  },
  {
   "cell_type": "code",
   "execution_count": 20,
   "metadata": {},
   "outputs": [
    {
     "data": {
      "text/plain": [
       "{'a': 'a', 10: 10}"
      ]
     },
     "execution_count": 20,
     "metadata": {},
     "output_type": "execute_result"
    }
   ],
   "source": [
    "function(a='a')\n",
    "function(a=10)"
   ]
  },
  {
   "cell_type": "markdown",
   "metadata": {},
   "source": [
    "### Problem Solution 3"
   ]
  },
  {
   "cell_type": "code",
   "execution_count": 26,
   "metadata": {},
   "outputs": [
    {
     "data": {
      "text/plain": [
       "{'age': 17, 'score': 30}"
      ]
     },
     "execution_count": 26,
     "metadata": {},
     "output_type": "execute_result"
    }
   ],
   "source": [
    "def key_word_arguments(**kwargs):\n",
    "    updated_dict = {key : value for key, value in kwargs.items() if isinstance(value, int)}\n",
    "\n",
    "    return updated_dict\n",
    "\n",
    "key_word_arguments(name='talha', age=17, gender='male', score=30)"
   ]
  },
  {
   "cell_type": "markdown",
   "metadata": {},
   "source": [
    "### Problem Solution 4"
   ]
  },
  {
   "cell_type": "code",
   "execution_count": 27,
   "metadata": {},
   "outputs": [
    {
     "data": {
      "text/plain": [
       "[1, 4, 9, 16, 25, 36, 49, 64, 81, 100]"
      ]
     },
     "execution_count": 27,
     "metadata": {},
     "output_type": "execute_result"
    }
   ],
   "source": [
    "lst = [1,2,3,4,5,6,7,8,9,10]\n",
    "\n",
    "list(map(lambda x: x ** 2,lst))"
   ]
  },
  {
   "cell_type": "code",
   "execution_count": 31,
   "metadata": {},
   "outputs": [
    {
     "data": {
      "text/plain": [
       "[1, 4, 9, 16, 25, 36, 49, 64, 81, 100]"
      ]
     },
     "execution_count": 31,
     "metadata": {},
     "output_type": "execute_result"
    }
   ],
   "source": [
    "def outer_function(lst, callback):\n",
    "    new_lst = [callback(i) for i in lst]\n",
    "    \n",
    "    return new_lst\n",
    "\n",
    "outer_function(lst, lambda x: x ** 2)"
   ]
  },
  {
   "cell_type": "markdown",
   "metadata": {},
   "source": [
    "### Problem Solution 5"
   ]
  },
  {
   "cell_type": "code",
   "execution_count": 36,
   "metadata": {},
   "outputs": [
    {
     "name": "stdout",
     "output_type": "stream",
     "text": [
      "25\n"
     ]
    }
   ],
   "source": [
    "def outer_function():\n",
    "    def inner_function(n: int):\n",
    "        return n ** 2\n",
    "\n",
    "    return inner_function\n",
    "\n",
    "func = outer_function()\n",
    "\n",
    "result = func(5)\n",
    "print(result)"
   ]
  },
  {
   "cell_type": "markdown",
   "metadata": {},
   "source": [
    "### Problem Solution 6"
   ]
  },
  {
   "cell_type": "code",
   "execution_count": 57,
   "metadata": {},
   "outputs": [
    {
     "name": "stdout",
     "output_type": "stream",
     "text": [
      "Function tooks 1.3024791999996523 seconds to execute\n",
      "333333283333335000000\n"
     ]
    }
   ],
   "source": [
    "import time\n",
    "\n",
    "def timer(func):\n",
    "    def wrapper(*args, **kwargs):\n",
    "        start = time.perf_counter()\n",
    "\n",
    "        result = func(*args, **kwargs)\n",
    "\n",
    "        end = time.perf_counter() - start\n",
    "\n",
    "        print(f'Function tooks {end} seconds to execute')\n",
    "        print(result)\n",
    "\n",
    "    return wrapper\n",
    "\n",
    "@timer\n",
    "def square():\n",
    "    var = 0\n",
    "    \n",
    "    for i in range(10000000):\n",
    "        var += i ** 2\n",
    "\n",
    "    return var\n",
    "\n",
    "square()"
   ]
  },
  {
   "cell_type": "markdown",
   "metadata": {},
   "source": [
    "### Problem Solution 7"
   ]
  },
  {
   "cell_type": "code",
   "execution_count": 63,
   "metadata": {},
   "outputs": [
    {
     "name": "stdout",
     "output_type": "stream",
     "text": [
      "[4, 16, 36, 64, 100, 144, 196, 256, 324, 400]\n"
     ]
    }
   ],
   "source": [
    "# Defing the filter function \n",
    "def even_numbers(n):\n",
    "    if n % 2 == 0:\n",
    "        return True\n",
    "\n",
    "    else:\n",
    "        False\n",
    "\n",
    "# Defining the map function\n",
    "def square(n):\n",
    "    return n ** 2\n",
    "\n",
    "def higher_order_function(filtering, mapping, lst):\n",
    "    # applying filtering to our list\n",
    "    filtered_list = [i for i in lst if filtering(i)]\n",
    "\n",
    "    #applying mapping to our list\n",
    "    mapped_list = [mapping(i) for i in filtered_list]\n",
    "\n",
    "    return mapped_list\n",
    "\n",
    "lst = [i for i in range(1,21)]\n",
    "\n",
    "result = higher_order_function(even_numbers, square, lst)\n",
    "print(result)"
   ]
  },
  {
   "cell_type": "markdown",
   "metadata": {},
   "source": [
    "### Problem Solution 8"
   ]
  },
  {
   "cell_type": "code",
   "execution_count": 11,
   "metadata": {},
   "outputs": [
    {
     "data": {
      "text/plain": [
       "9"
      ]
     },
     "execution_count": 11,
     "metadata": {},
     "output_type": "execute_result"
    }
   ],
   "source": [
    "def compose(f, g):\n",
    "    return lambda x: f(g(x))\n",
    "\n",
    "\n",
    "def square(x):\n",
    "    return x ** 2\n",
    "\n",
    "def increment(x):\n",
    "    return x + 1\n",
    "\n",
    "func = compose(square, increment)\n",
    "result = func(2)\n",
    "result"
   ]
  },
  {
   "cell_type": "markdown",
   "metadata": {},
   "source": [
    "### Problem Solution 9"
   ]
  },
  {
   "cell_type": "code",
   "execution_count": 18,
   "metadata": {},
   "outputs": [
    {
     "data": {
      "text/plain": [
       "4"
      ]
     },
     "execution_count": 18,
     "metadata": {},
     "output_type": "execute_result"
    }
   ],
   "source": [
    "from functools import partial\n",
    "\n",
    "def multiply(a, b):\n",
    "    return a * b\n",
    "\n",
    "double = partial(multiply, 2, 2)\n",
    "\n",
    "double()"
   ]
  },
  {
   "cell_type": "markdown",
   "metadata": {},
   "source": [
    "### Problem Solution 10"
   ]
  },
  {
   "cell_type": "code",
   "execution_count": 21,
   "metadata": {},
   "outputs": [
    {
     "name": "stdout",
     "output_type": "stream",
     "text": [
      "5.5\n"
     ]
    }
   ],
   "source": [
    "def list_average(lst):\n",
    "    try:\n",
    "        average = sum(lst) / len(lst)\n",
    "        return average\n",
    "\n",
    "    except Exception as e:\n",
    "        return None\n",
    "\n",
    "lst = [1,2,3,4,5,6,7,8,9,10]\n",
    "result = list_average(lst)\n",
    "# result = list_average([])\n",
    "print(result)"
   ]
  },
  {
   "cell_type": "markdown",
   "metadata": {},
   "source": [
    "### Problem Solution 11"
   ]
  },
  {
   "cell_type": "code",
   "execution_count": 127,
   "metadata": {},
   "outputs": [
    {
     "name": "stdout",
     "output_type": "stream",
     "text": [
      "0\n",
      "1\n",
      "1\n",
      "2\n",
      "3\n",
      "5\n",
      "8\n",
      "13\n",
      "21\n",
      "34\n"
     ]
    }
   ],
   "source": [
    "def fibonacci_iterative():\n",
    "    # First two terms\n",
    "    n1, n2 = 0, 1\n",
    "    count = 0\n",
    "    \n",
    "    for _ in range(10):\n",
    "        yield n1\n",
    "\n",
    "        nth = n1 + n2\n",
    "        # Update values\n",
    "        n1 = n2\n",
    "        n2 = nth\n",
    "        count += 1\n",
    "\n",
    "for i in fibonacci_iterative():\n",
    "    print(i)"
   ]
  },
  {
   "cell_type": "markdown",
   "metadata": {},
   "source": [
    "### Problem Solution 12"
   ]
  },
  {
   "cell_type": "code",
   "execution_count": 148,
   "metadata": {},
   "outputs": [
    {
     "data": {
      "text/plain": [
       "10000"
      ]
     },
     "execution_count": 148,
     "metadata": {},
     "output_type": "execute_result"
    }
   ],
   "source": [
    "def multiply(a):\n",
    "    def multiply_b(b):\n",
    "        def multiply_c(c):\n",
    "            def multiply_d(d):\n",
    "                return a * b * c * d\n",
    "\n",
    "            return multiply_d\n",
    "\n",
    "        return multiply_c\n",
    "\n",
    "    return multiply_b\n",
    "\n",
    "result = multiply(10)(10)(10)(10)\n",
    "result"
   ]
  },
  {
   "cell_type": "markdown",
   "metadata": {},
   "source": [
    "### Problem Solution 13"
   ]
  },
  {
   "cell_type": "code",
   "execution_count": 155,
   "metadata": {},
   "outputs": [],
   "source": [
    "def list_writer(lst):\n",
    "    try:\n",
    "        with open('list_file.txt', 'a') as file:\n",
    "            for i in lst:\n",
    "                file.write(str(i))\n",
    "\n",
    "    except Exception as e:\n",
    "        print(e)\n",
    "\n",
    "lst = [i for i in range(1,11)]\n",
    "list_writer(lst)"
   ]
  },
  {
   "cell_type": "markdown",
   "metadata": {},
   "source": [
    "### Problem Solution 14"
   ]
  },
  {
   "cell_type": "code",
   "execution_count": 161,
   "metadata": {},
   "outputs": [
    {
     "name": "stdout",
     "output_type": "stream",
     "text": [
      "['talha', 'maheen', 'zaviyar']\n",
      "[2.3, 2.3, 4.3]\n",
      "[1, 2, 3, 5, 2]\n"
     ]
    }
   ],
   "source": [
    "def multiple_datatypes(lst):\n",
    "    strings = []\n",
    "    floats = []\n",
    "    integers = []\n",
    "\n",
    "    for i in lst:\n",
    "        strings.append(i) if isinstance(i, str) else floats.append(i) if isinstance(i, float) else integers.append(i)\n",
    "\n",
    "    return strings, floats, integers\n",
    "\n",
    "\n",
    "lst = [1,2,3,2.3,'talha', 'maheen', 2.3, 4.3, 5, 2, 'zaviyar']\n",
    "strs, floats, ints = multiple_datatypes(lst)\n",
    "\n",
    "print(strs)\n",
    "print(floats)\n",
    "print(ints)"
   ]
  },
  {
   "cell_type": "markdown",
   "metadata": {},
   "source": [
    "### Problem Solution 15"
   ]
  },
  {
   "cell_type": "code",
   "execution_count": 171,
   "metadata": {},
   "outputs": [],
   "source": [
    "def state(lst=[0]):\n",
    "    lst[0] += 1\n",
    "    print(lst[0])"
   ]
  },
  {
   "cell_type": "code",
   "execution_count": 182,
   "metadata": {},
   "outputs": [
    {
     "name": "stdout",
     "output_type": "stream",
     "text": [
      "47\n",
      "48\n",
      "49\n",
      "50\n",
      "51\n"
     ]
    }
   ],
   "source": [
    "state()\n",
    "state()\n",
    "state()\n",
    "state()\n",
    "state()"
   ]
  },
  {
   "cell_type": "code",
   "execution_count": null,
   "metadata": {},
   "outputs": [],
   "source": []
  }
 ],
 "metadata": {
  "kernelspec": {
   "display_name": "base",
   "language": "python",
   "name": "python3"
  },
  "language_info": {
   "codemirror_mode": {
    "name": "ipython",
    "version": 3
   },
   "file_extension": ".py",
   "mimetype": "text/x-python",
   "name": "python",
   "nbconvert_exporter": "python",
   "pygments_lexer": "ipython3",
   "version": "3.12.7"
  }
 },
 "nbformat": 4,
 "nbformat_minor": 2
}
