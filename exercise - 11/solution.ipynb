{
 "cells": [
  {
   "cell_type": "markdown",
   "metadata": {},
   "source": [
    "### Problem Solution 1"
   ]
  },
  {
   "cell_type": "code",
   "execution_count": 1,
   "metadata": {},
   "outputs": [
    {
     "name": "stdout",
     "output_type": "stream",
     "text": [
      "1990 m5 1990\n"
     ]
    }
   ],
   "source": [
    "class Car:\n",
    "    def __init__(self, make, model, year):\n",
    "        self.make = make\n",
    "        self.model = model\n",
    "        self.year = year\n",
    "\n",
    "bmw = Car(1990, 'm5', 1990)\n",
    "print(bmw.make, bmw.model, bmw.year)"
   ]
  },
  {
   "cell_type": "markdown",
   "metadata": {},
   "source": [
    "### Problem 1.1"
   ]
  },
  {
   "cell_type": "code",
   "execution_count": 2,
   "metadata": {},
   "outputs": [
    {
     "name": "stdout",
     "output_type": "stream",
     "text": [
      "2000 r8 200\n"
     ]
    }
   ],
   "source": [
    "from dataclasses import dataclass\n",
    "\n",
    "@dataclass\n",
    "class Car:\n",
    "    make: int\n",
    "    model: str\n",
    "    year: int\n",
    "\n",
    "audi = Car(2000, 'r8', 200)\n",
    "print(audi.make, audi.model, audi.year)"
   ]
  },
  {
   "cell_type": "markdown",
   "metadata": {},
   "source": [
    "### Problem Solution 2"
   ]
  },
  {
   "cell_type": "code",
   "execution_count": 3,
   "metadata": {},
   "outputs": [
    {
     "name": "stdout",
     "output_type": "stream",
     "text": [
      "1990 m5 1990\n",
      "Engine is started\n"
     ]
    }
   ],
   "source": [
    "class Car:\n",
    "    def __init__(self, make, model, year):\n",
    "        self.make = make\n",
    "        self.model = model\n",
    "        self.year = year\n",
    "\n",
    "    def start_engine(self):\n",
    "        print('Engine is started')\n",
    "\n",
    "bmw = Car(1990, 'm5', 1990)\n",
    "print(bmw.make, bmw.model, bmw.year)\n",
    "\n",
    "bmw.start_engine()"
   ]
  },
  {
   "cell_type": "markdown",
   "metadata": {},
   "source": [
    "### Problem Solution 3"
   ]
  },
  {
   "cell_type": "code",
   "execution_count": 5,
   "metadata": {},
   "outputs": [
    {
     "name": "stdout",
     "output_type": "stream",
     "text": [
      "talha 17\n",
      "Student Name is talha, Age is 17\n"
     ]
    }
   ],
   "source": [
    "class Student:\n",
    "    def __init__(self, name, age):\n",
    "        self.name = name\n",
    "        self.age = age\n",
    "\n",
    "    def studentInfo(self):\n",
    "        return f'Student Name is {self.name}, Age is {self.age}'\n",
    "\n",
    "talha = Student('talha', 17)\n",
    "print(talha.name, talha.age)\n",
    "\n",
    "print(talha.studentInfo())"
   ]
  },
  {
   "cell_type": "markdown",
   "metadata": {},
   "source": [
    "### Problem Solution 4"
   ]
  },
  {
   "cell_type": "code",
   "execution_count": 10,
   "metadata": {},
   "outputs": [
    {
     "name": "stdout",
     "output_type": "stream",
     "text": [
      "Amount Deposited Successfully\n",
      "Money Withdrawal successfully\n",
      "Your available balance is 10900000\n"
     ]
    }
   ],
   "source": [
    "class BankAccount:\n",
    "    def __init__(self):\n",
    "        self.__AccountNumber = 2342342342323\n",
    "        self.__Balance = 10000000\n",
    "\n",
    "    def deposit(self, amount):\n",
    "        self.__Balance += amount\n",
    "        print(f'Amount Deposited Successfully')\n",
    "\n",
    "    def withdraw(self, amount):\n",
    "        if not amount >= self.__Balance:\n",
    "            self.__Balance -= amount\n",
    "            print('Money Withdrawal successfully')\n",
    "\n",
    "        else:\n",
    "            print('You dont have enough funds')\n",
    "\n",
    "    def BalanceCheck(self):\n",
    "        print(f'Your available balance is {self.__Balance}')\n",
    "    \n",
    "talha = BankAccount()\n",
    "talha.deposit(1000000)\n",
    "talha.withdraw(100000)\n",
    "talha.BalanceCheck()"
   ]
  },
  {
   "cell_type": "markdown",
   "metadata": {},
   "source": [
    "### Problem Solution 5"
   ]
  },
  {
   "cell_type": "code",
   "execution_count": 15,
   "metadata": {},
   "outputs": [
    {
     "name": "stdout",
     "output_type": "stream",
     "text": [
      "umer 11 121\n"
     ]
    }
   ],
   "source": [
    "class Person:\n",
    "    def __init__(self, name, age):\n",
    "        self.name = name\n",
    "        self.age = age\n",
    "\n",
    "class Employee(Person):\n",
    "    def __init__(self, name, age, employee_id):\n",
    "        super().__init__(name, age)\n",
    "        self.employee_id = employee_id\n",
    "\n",
    "emp1 = Employee('umer', 11, 121)\n",
    "print(emp1.name, emp1.age, emp1.employee_id)"
   ]
  },
  {
   "cell_type": "markdown",
   "metadata": {},
   "source": [
    "### Problem Solution 6"
   ]
  },
  {
   "cell_type": "code",
   "execution_count": 28,
   "metadata": {},
   "outputs": [
    {
     "name": "stdout",
     "output_type": "stream",
     "text": [
      "umer 11 121\n"
     ]
    },
    {
     "data": {
      "text/plain": [
       "'Employee name umer, Age 11, Employee_id 121'"
      ]
     },
     "execution_count": 28,
     "metadata": {},
     "output_type": "execute_result"
    }
   ],
   "source": [
    "class Person:\n",
    "    def __init__(self, name, age):\n",
    "        self.name = name\n",
    "        self.age = age\n",
    "\n",
    "class Employee(Person):\n",
    "    def __init__(self, name, age, employee_id):\n",
    "        self.name = name\n",
    "        self.age = age\n",
    "        super().__init__(name, age)\n",
    "        self.employee_id = employee_id\n",
    "\n",
    "    def __str__(self):\n",
    "        return f'Employee name {self.name}, Age {self.age}, Employee_id {self.employee_id}'\n",
    "\n",
    "emp1 = Employee('umer', 11, 121)\n",
    "print(emp1.name, emp1.age, emp1.employee_id)\n",
    "emp1.__str__()"
   ]
  },
  {
   "cell_type": "markdown",
   "metadata": {},
   "source": [
    "### Problem Solution 7"
   ]
  },
  {
   "cell_type": "code",
   "execution_count": 31,
   "metadata": {},
   "outputs": [
    {
     "name": "stdout",
     "output_type": "stream",
     "text": [
      "talha 17 <__main__.Address object at 0x000002393F6CFCE0>\n",
      "karachi fb-area 1212\n"
     ]
    }
   ],
   "source": [
    "class Address:\n",
    "    def __init__(self, street, city, zipcode):\n",
    "        self.street = street\n",
    "        self.city = city\n",
    "        self.zipcode = zipcode\n",
    "\n",
    "class Person:\n",
    "    def __init__(self, name, age, address):\n",
    "        self.name = name\n",
    "        self.age = age\n",
    "        self.address = address\n",
    "\n",
    "address1 = Address('fb-area', 'karachi', 1212)\n",
    "talha = Person('talha', 17, address1)\n",
    "print(talha.name, talha.age, talha.address)\n",
    "print(talha.address.city, talha.address.street, talha.address.zipcode)"
   ]
  },
  {
   "cell_type": "markdown",
   "metadata": {},
   "source": [
    "### Problem Solution 8"
   ]
  },
  {
   "cell_type": "code",
   "execution_count": 34,
   "metadata": {},
   "outputs": [
    {
     "name": "stdout",
     "output_type": "stream",
     "text": [
      "4\n"
     ]
    }
   ],
   "source": [
    "class Counter:\n",
    "    count = 0\n",
    "\n",
    "    def __init__(self):\n",
    "        Counter.count += 1\n",
    "\n",
    "    def current_count(self):\n",
    "        print(Counter.count)\n",
    "\n",
    "count1 = Counter()\n",
    "count2 = Counter()\n",
    "count3 = Counter()\n",
    "count4 = Counter()\n",
    "\n",
    "count4.current_count()"
   ]
  },
  {
   "cell_type": "markdown",
   "metadata": {},
   "source": [
    "### Problem Solution 9"
   ]
  },
  {
   "cell_type": "code",
   "execution_count": 35,
   "metadata": {},
   "outputs": [
    {
     "name": "stdout",
     "output_type": "stream",
     "text": [
      "3.1622776601683795\n"
     ]
    }
   ],
   "source": [
    "import math\n",
    "\n",
    "class MathOperations:\n",
    "    @staticmethod\n",
    "    def sqrt(value):\n",
    "        return math.sqrt(value)\n",
    "\n",
    "print(MathOperations.sqrt(10))"
   ]
  },
  {
   "cell_type": "markdown",
   "metadata": {},
   "source": [
    "### Problem Solution 10"
   ]
  },
  {
   "cell_type": "code",
   "execution_count": 42,
   "metadata": {},
   "outputs": [
    {
     "data": {
      "text/plain": [
       "50"
      ]
     },
     "execution_count": 42,
     "metadata": {},
     "output_type": "execute_result"
    }
   ],
   "source": [
    "class Rectangle:\n",
    "    def __init__(self, length, width):\n",
    "        self.__length = length\n",
    "        self.__width = width\n",
    "\n",
    "    def get_length(self):\n",
    "        return self.__length\n",
    "\n",
    "    def get_widht(self):\n",
    "        return self.__width\n",
    "\n",
    "    def set_length(self, value):\n",
    "        self.__length = value\n",
    "\n",
    "    def set_width(self, value):\n",
    "        self.__width = value\n",
    "\n",
    "rect = Rectangle(10, 20)\n",
    "rect.get_length(), rect.get_widht()\n",
    "rect.set_length(50)\n",
    "rect.get_length()"
   ]
  },
  {
   "cell_type": "markdown",
   "metadata": {},
   "source": [
    "### Problem 10.2"
   ]
  },
  {
   "cell_type": "code",
   "execution_count": 49,
   "metadata": {},
   "outputs": [
    {
     "name": "stdout",
     "output_type": "stream",
     "text": [
      "10\n",
      "20\n"
     ]
    }
   ],
   "source": [
    "class Rectangle:\n",
    "    def __init__(self, length, width):\n",
    "        self.__length = length\n",
    "        self.__width = width\n",
    "\n",
    "    @property\n",
    "    def getLength(self):\n",
    "        return self.__length\n",
    "\n",
    "    @getLength.setter\n",
    "    def getLength(self, value):\n",
    "        self.__length = value\n",
    "\n",
    "rect = Rectangle(10, 20)\n",
    "print(rect.getLength)\n",
    "rect.getLength = 20\n",
    "print(rect.getLength)"
   ]
  },
  {
   "cell_type": "markdown",
   "metadata": {},
   "source": [
    "### Problem Solution 11"
   ]
  },
  {
   "cell_type": "code",
   "execution_count": 52,
   "metadata": {},
   "outputs": [
    {
     "name": "stdout",
     "output_type": "stream",
     "text": [
      "Area of a circle\n",
      "Area of a square\n"
     ]
    }
   ],
   "source": [
    "from abc import ABC, abstractmethod\n",
    "\n",
    "class Shape(ABC):\n",
    "    \n",
    "    @abstractmethod\n",
    "    def area(self):\n",
    "        pass\n",
    "\n",
    "class Circle(Shape):\n",
    "    def area(self):\n",
    "        print('Area of a circle')\n",
    "\n",
    "class Square(Shape):\n",
    "    def area(self):\n",
    "        print('Area of a square')\n",
    "\n",
    "cir = Circle()\n",
    "cir.area()\n",
    "\n",
    "sq = Square()\n",
    "sq.area()"
   ]
  },
  {
   "cell_type": "markdown",
   "metadata": {},
   "source": [
    "### Problem Solution 12"
   ]
  },
  {
   "cell_type": "code",
   "execution_count": 56,
   "metadata": {},
   "outputs": [
    {
     "name": "stdout",
     "output_type": "stream",
     "text": [
      "(14, 10)\n"
     ]
    }
   ],
   "source": [
    "class Vector:\n",
    "    def __init__(self, x, y):\n",
    "        self.x = x\n",
    "        self.y = y\n",
    "\n",
    "    def __add__(self, other):\n",
    "        return (self.x + other.x, self.y + other.y)\n",
    "\n",
    "v1 = Vector(10, 8)\n",
    "v2 = Vector(4,2)\n",
    "\n",
    "print(v1 + v2)"
   ]
  },
  {
   "cell_type": "markdown",
   "metadata": {},
   "source": [
    "### Problem 12.2"
   ]
  },
  {
   "cell_type": "code",
   "execution_count": 58,
   "metadata": {},
   "outputs": [
    {
     "name": "stdout",
     "output_type": "stream",
     "text": [
      "(0.8, 0.5)\n"
     ]
    }
   ],
   "source": [
    "class WordEmbeddings:\n",
    "    def __init__(self, x, y):\n",
    "        self.x = x\n",
    "        self.y = y\n",
    "\n",
    "    def __add__(self, other):\n",
    "        return (self.x + other.x, self.y + other.y)\n",
    "\n",
    "word_king = WordEmbeddings(0.5, 0.3)\n",
    "word_man = WordEmbeddings(0.3, 0.2)\n",
    "\n",
    "print(word_king + word_man)"
   ]
  },
  {
   "cell_type": "markdown",
   "metadata": {},
   "source": [
    "### Problem Solution 13"
   ]
  },
  {
   "cell_type": "code",
   "execution_count": 60,
   "metadata": {},
   "outputs": [
    {
     "name": "stdout",
     "output_type": "stream",
     "text": [
      "Amount Deposited Successfully\n",
      "You dont have enough funds to withdraw\n",
      "Your available balance is 11000000\n"
     ]
    }
   ],
   "source": [
    "class InsufficientBalanceError(Exception):\n",
    "    def __init__(self, msg):\n",
    "        super().__init__(msg)\n",
    "\n",
    "class BankAccount:\n",
    "    def __init__(self):\n",
    "        self.__AccountNumber = 2342342342323\n",
    "        self.__Balance = 10000000\n",
    "\n",
    "    def deposit(self, amount):\n",
    "        self.__Balance += amount\n",
    "        print(f'Amount Deposited Successfully')\n",
    "\n",
    "    def withdraw(self, amount):\n",
    "        try:\n",
    "            if not amount >= self.__Balance:\n",
    "                self.__Balance -= amount\n",
    "                print('Money Withdrawal successfully')\n",
    "\n",
    "            else:\n",
    "                raise InsufficientBalanceError('You dont have enough funds to withdraw')\n",
    "\n",
    "        except Exception as e:\n",
    "            print(e)\n",
    "\n",
    "    def BalanceCheck(self):\n",
    "        print(f'Your available balance is {self.__Balance}')\n",
    "    \n",
    "talha = BankAccount()\n",
    "talha.deposit(1000000)\n",
    "talha.withdraw(1000000000000)\n",
    "talha.BalanceCheck()"
   ]
  },
  {
   "cell_type": "markdown",
   "metadata": {},
   "source": [
    "### Problem Solution 14"
   ]
  },
  {
   "cell_type": "code",
   "execution_count": 70,
   "metadata": {},
   "outputs": [
    {
     "name": "stdout",
     "output_type": "stream",
     "text": [
      "this is txt file\n"
     ]
    }
   ],
   "source": [
    "class FileManager:\n",
    "    def __init__(self, filename, mode):\n",
    "        self.filename = filename\n",
    "        self.mode = mode   \n",
    "        self.file = None\n",
    "\n",
    "    def __enter__(self):\n",
    "        self.file = open(self.filename, self.mode)\n",
    "        return self.file\n",
    "\n",
    "    def __exit__(self, exc_type, exc_value, traceback):\n",
    "        if self.file:\n",
    "            self.file.close()\n",
    "\n",
    "        if exc_type:\n",
    "            print(f\"An error occurred: {exc_value}\")\n",
    "\n",
    "        return False\n",
    "        \n",
    "\n",
    "with FileManager('this.txt', 'r') as file:\n",
    "    content = file.read()\n",
    "    print(content)"
   ]
  },
  {
   "cell_type": "markdown",
   "metadata": {},
   "source": [
    "### Problem Solution 15"
   ]
  },
  {
   "cell_type": "code",
   "execution_count": 73,
   "metadata": {},
   "outputs": [],
   "source": [
    "class Calculator:\n",
    "    def __init__(self, value=0):\n",
    "        self.value = value  # Initialize with a default value of 0\n",
    "\n",
    "    def add(self, num):\n",
    "        self.value += num\n",
    "        return self  # Returning self for method chaining\n",
    "\n",
    "    def subtract(self, num):\n",
    "        self.value -= num\n",
    "        return self  # Returning self for method chaining\n",
    "\n",
    "    def multiply(self, num):\n",
    "        self.value *= num\n",
    "        return self  # Returning self for method chaining\n",
    "\n",
    "    def divide(self, num):\n",
    "        if num == 0:\n",
    "            print(\"Error: Division by zero is not allowed.\")\n",
    "            return self  # Returning self to continue chaining\n",
    "        self.value /= num\n",
    "        return self  # Returning self for method chaining\n",
    "\n",
    "    def result(self):\n",
    "        return self.value"
   ]
  },
  {
   "cell_type": "code",
   "execution_count": 81,
   "metadata": {},
   "outputs": [
    {
     "data": {
      "text/plain": [
       "26.666666666666668"
      ]
     },
     "execution_count": 81,
     "metadata": {},
     "output_type": "execute_result"
    }
   ],
   "source": [
    "calc = Calculator()\n",
    "calc.add(10).subtract(2).multiply(10).divide(3).result()"
   ]
  },
  {
   "cell_type": "code",
   "execution_count": null,
   "metadata": {},
   "outputs": [],
   "source": []
  }
 ],
 "metadata": {
  "kernelspec": {
   "display_name": "base",
   "language": "python",
   "name": "python3"
  },
  "language_info": {
   "codemirror_mode": {
    "name": "ipython",
    "version": 3
   },
   "file_extension": ".py",
   "mimetype": "text/x-python",
   "name": "python",
   "nbconvert_exporter": "python",
   "pygments_lexer": "ipython3",
   "version": "3.12.7"
  }
 },
 "nbformat": 4,
 "nbformat_minor": 2
}
