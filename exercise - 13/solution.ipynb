{
 "cells": [
  {
   "cell_type": "markdown",
   "metadata": {},
   "source": [
    "### Problem Solution 1"
   ]
  },
  {
   "cell_type": "code",
   "execution_count": 1,
   "metadata": {},
   "outputs": [
    {
     "name": "stdout",
     "output_type": "stream",
     "text": [
      "Shape Area\n",
      "Circle Area\n",
      "Square Area\n"
     ]
    }
   ],
   "source": [
    "class Shape:\n",
    "    def area(self):\n",
    "        print('Shape Area')\n",
    "\n",
    "class Circle:\n",
    "    def area(self):\n",
    "        print('Circle Area')\n",
    "\n",
    "class Square:\n",
    "    def area(self):\n",
    "        print('Square Area')\n",
    "\n",
    "def polymorphism(obj):\n",
    "    obj.area()\n",
    "\n",
    "a = Shape()\n",
    "b = Circle()\n",
    "c = Square()\n",
    "\n",
    "for i in [a, b, c]:\n",
    "    polymorphism(i)"
   ]
  },
  {
   "cell_type": "markdown",
   "metadata": {},
   "source": [
    "### Problem Solution 2"
   ]
  },
  {
   "cell_type": "code",
   "execution_count": 2,
   "metadata": {},
   "outputs": [
    {
     "name": "stdout",
     "output_type": "stream",
     "text": [
      "Circle Area\n",
      "Square Area\n"
     ]
    }
   ],
   "source": [
    "def describe_shape(obj):\n",
    "    obj.area()\n",
    "\n",
    "circ = Circle()\n",
    "sq = Square()\n",
    "\n",
    "describe_shape(circ)\n",
    "describe_shape(sq)"
   ]
  },
  {
   "cell_type": "markdown",
   "metadata": {},
   "source": [
    "### Problem SOlution 3"
   ]
  },
  {
   "cell_type": "code",
   "execution_count": 7,
   "metadata": {},
   "outputs": [
    {
     "name": "stdout",
     "output_type": "stream",
     "text": [
      "Car Started\n",
      "Bike Started\n"
     ]
    }
   ],
   "source": [
    "from abc import ABC, abstractmethod\n",
    "\n",
    "class Vehicle(ABC):\n",
    "    @abstractmethod\n",
    "    def start_engine(self):\n",
    "        pass\n",
    "\n",
    "class Car(Vehicle):\n",
    "    def start_engine(self):\n",
    "        print('Car Started')\n",
    "\n",
    "class Bike(Vehicle):\n",
    "    def start_engine(self):\n",
    "        print('Bike Started')\n",
    "\n",
    "bmw = Car()\n",
    "kawasaki = Bike()\n",
    "\n",
    "bmw.start_engine()\n",
    "kawasaki.start_engine()"
   ]
  },
  {
   "cell_type": "markdown",
   "metadata": {},
   "source": [
    "### Problem Solution 4"
   ]
  },
  {
   "cell_type": "code",
   "execution_count": 8,
   "metadata": {},
   "outputs": [
    {
     "name": "stdout",
     "output_type": "stream",
     "text": [
      "Car Started\n",
      "Petrol\n",
      "Bike Started\n",
      "Petrol\n"
     ]
    }
   ],
   "source": [
    "from abc import ABC, abstractmethod\n",
    "\n",
    "class Vehicle(ABC):\n",
    "    @abstractmethod\n",
    "    def start_engine(self):\n",
    "        pass\n",
    "\n",
    "    def fuel_type(self):\n",
    "        print('Petrol')\n",
    "\n",
    "class Car(Vehicle):\n",
    "    def start_engine(self):\n",
    "        print('Car Started')\n",
    "\n",
    "class Bike(Vehicle):\n",
    "    def start_engine(self):\n",
    "        print('Bike Started')\n",
    "\n",
    "bmw = Car()\n",
    "kawasaki = Bike()\n",
    "\n",
    "bmw.start_engine()\n",
    "bmw.fuel_type()\n",
    "\n",
    "kawasaki.start_engine()\n",
    "kawasaki.fuel_type()"
   ]
  },
  {
   "cell_type": "markdown",
   "metadata": {},
   "source": [
    "### Problem Solution 5"
   ]
  },
  {
   "cell_type": "code",
   "execution_count": 13,
   "metadata": {},
   "outputs": [],
   "source": [
    "from dataclasses import dataclass\n",
    "\n",
    "@dataclass\n",
    "class BankAccount:\n",
    "    __account_number: int\n",
    "    __balance: int \n",
    "\n",
    "talha = BankAccount(32453456362, 100000)\n",
    "maheen = BankAccount(63424253463, 20000)"
   ]
  },
  {
   "cell_type": "markdown",
   "metadata": {},
   "source": [
    "### Problem Solution 6"
   ]
  },
  {
   "cell_type": "code",
   "execution_count": 15,
   "metadata": {},
   "outputs": [
    {
     "name": "stdout",
     "output_type": "stream",
     "text": [
      "100000\n",
      "200100000\n"
     ]
    }
   ],
   "source": [
    "class BankAccount:\n",
    "    def __init__(self):\n",
    "        self.__account_number = 23423423423\n",
    "        self.__balance = 100000\n",
    "\n",
    "    @property\n",
    "    def getBalance(self):\n",
    "        return self.__balance\n",
    "\n",
    "    @getBalance.setter\n",
    "    def getBalance(self, amount):\n",
    "        if not amount <= 0:\n",
    "            self.__balance += amount\n",
    "\n",
    "        else:\n",
    "            print('Negative Value cannot be set')\n",
    "\n",
    "acc = BankAccount()\n",
    "print(acc.getBalance)\n",
    "acc.getBalance = 200000000\n",
    "print(acc.getBalance)"
   ]
  },
  {
   "cell_type": "markdown",
   "metadata": {},
   "source": [
    "### Problem Solution 7"
   ]
  },
  {
   "cell_type": "code",
   "execution_count": 32,
   "metadata": {},
   "outputs": [
    {
     "name": "stdout",
     "output_type": "stream",
     "text": [
      "talha\n",
      "maheen\n"
     ]
    }
   ],
   "source": [
    "class Person:\n",
    "    def __init__(self):\n",
    "        self.__name = 'talha'\n",
    "        self.__age = 17\n",
    "\n",
    "    def getName(self):\n",
    "        return self.__name\n",
    "\n",
    "    def getAge(self):\n",
    "        return self.__age\n",
    "\n",
    "    def setName(self, name):\n",
    "        self.__name = name\n",
    "\n",
    "    def setAge(self, age):\n",
    "        self.__age = age\n",
    "\n",
    "class Student(Person):\n",
    "    def __init__(self, student_id):\n",
    "        super().__init__()\n",
    "        self.student_id = student_id\n",
    "\n",
    "talha = Student(123)\n",
    "print(talha.getName())\n",
    "talha.setName('maheen')\n",
    "print(talha.getName())"
   ]
  },
  {
   "cell_type": "markdown",
   "metadata": {},
   "source": [
    "### Problem 7.2"
   ]
  },
  {
   "cell_type": "code",
   "execution_count": 34,
   "metadata": {},
   "outputs": [
    {
     "name": "stdout",
     "output_type": "stream",
     "text": [
      "talha\n",
      "maheen\n"
     ]
    }
   ],
   "source": [
    "class Person:\n",
    "    def __init__(self):\n",
    "        self.__name = 'talha'\n",
    "        self.__age = 17\n",
    "\n",
    "    @property\n",
    "    def getName(self):\n",
    "        return self.__name\n",
    "\n",
    "    @property\n",
    "    def getAge(self):\n",
    "        return self.__age\n",
    "\n",
    "    @getName.setter\n",
    "    def getName(self, name):\n",
    "        self.__name = name\n",
    "\n",
    "    @getAge.setter\n",
    "    def getAge(self, age):\n",
    "        self.__age = age\n",
    "\n",
    "class Student(Person):\n",
    "    def __init__(self, student_id):\n",
    "        super().__init__()\n",
    "        self.student_id = student_id\n",
    "\n",
    "talha = Student(123)\n",
    "print(talha.getName)\n",
    "talha.getName = 'maheen'\n",
    "print(talha.getName)"
   ]
  },
  {
   "cell_type": "markdown",
   "metadata": {},
   "source": [
    "### Problem Solution 8"
   ]
  },
  {
   "cell_type": "code",
   "execution_count": 36,
   "metadata": {},
   "outputs": [
    {
     "name": "stdout",
     "output_type": "stream",
     "text": [
      "Cat Speaking\n",
      "Dog Speaking\n"
     ]
    }
   ],
   "source": [
    "class Animal:\n",
    "    def speak(self):\n",
    "        print('Animal Speaking')\n",
    "\n",
    "class Dog(Animal):\n",
    "    def speak(self):\n",
    "        print('Dog Speaking')\n",
    "\n",
    "class Cat(Animal):\n",
    "    def speak(self):\n",
    "        print('Cat Speaking')\n",
    "\n",
    "def polymorphism(obj):\n",
    "    obj.speak()\n",
    "\n",
    "cat = Cat()\n",
    "dog = Dog()\n",
    "\n",
    "for i in [cat, dog]:\n",
    "    polymorphism(i)"
   ]
  },
  {
   "cell_type": "markdown",
   "metadata": {},
   "source": [
    "### Problem Solution 9"
   ]
  },
  {
   "cell_type": "code",
   "execution_count": 41,
   "metadata": {},
   "outputs": [
    {
     "name": "stdout",
     "output_type": "stream",
     "text": [
      "Full time employee\n",
      "Part time employee\n"
     ]
    }
   ],
   "source": [
    "from abc import abstractmethod, ABC\n",
    "\n",
    "class Employee(ABC):\n",
    "    @abstractmethod\n",
    "    def calculate_salary(self):\n",
    "        pass\n",
    "\n",
    "class FullTimeEmployee(Employee):\n",
    "    def calculate_salary(self):\n",
    "        print('Full time employee')\n",
    "\n",
    "class PartTimeEmployee(ABC):\n",
    "    def calculate_salary(self):\n",
    "        print('Part time employee')\n",
    "\n",
    "full = FullTimeEmployee()\n",
    "part = PartTimeEmployee()\n",
    "\n",
    "full.calculate_salary()\n",
    "part.calculate_salary()"
   ]
  },
  {
   "cell_type": "markdown",
   "metadata": {},
   "source": [
    "### Problem Solution 10"
   ]
  },
  {
   "cell_type": "code",
   "execution_count": 48,
   "metadata": {},
   "outputs": [
    {
     "name": "stdout",
     "output_type": "stream",
     "text": [
      "231\n",
      "10000\n",
      "20000\n"
     ]
    }
   ],
   "source": [
    "from dataclasses import dataclass\n",
    "\n",
    "@dataclass\n",
    "class Product:\n",
    "    __product_id: int\n",
    "    __name: str\n",
    "    __price: int\n",
    "\n",
    "    def getId(self):\n",
    "        return self.__product_id\n",
    "\n",
    "    def getName(self):\n",
    "        return self.__name\n",
    "\n",
    "    def getPrice(self):\n",
    "        return self.__price\n",
    "\n",
    "    def setId(self, value):\n",
    "        self.__product_id = value\n",
    "\n",
    "    def setName(self, value):\n",
    "        self.__name = value\n",
    "\n",
    "    def setPrice(self, value):\n",
    "        if not value <= 0:\n",
    "            self.__price = value\n",
    "\n",
    "        else:\n",
    "            print('Negative value not allowed')\n",
    "\n",
    "apple = Product(231, 'apple', 10000)\n",
    "print(apple.getId())\n",
    "print(apple.getPrice())\n",
    "\n",
    "apple.setPrice(20000)\n",
    "print(apple.getPrice())"
   ]
  },
  {
   "cell_type": "markdown",
   "metadata": {},
   "source": [
    "### Problem Solution 11"
   ]
  },
  {
   "cell_type": "code",
   "execution_count": 49,
   "metadata": {},
   "outputs": [
    {
     "name": "stdout",
     "output_type": "stream",
     "text": [
      "(30, 30)\n"
     ]
    }
   ],
   "source": [
    "class Vector:\n",
    "    def __init__(self, x, y):\n",
    "        self.x = x\n",
    "        self.y = y\n",
    "\n",
    "    def __add__(self, other):\n",
    "        return (self.x + other.x, self.y + other.y)\n",
    "\n",
    "v1 = Vector(10, 20)\n",
    "v2 = Vector(20, 10)\n",
    "\n",
    "print(v1 + v2)"
   ]
  },
  {
   "cell_type": "markdown",
   "metadata": {},
   "source": [
    "### Problem Solution 12"
   ]
  },
  {
   "cell_type": "code",
   "execution_count": 52,
   "metadata": {},
   "outputs": [
    {
     "name": "stdout",
     "output_type": "stream",
     "text": [
      "200w\n",
      "500w\n"
     ]
    }
   ],
   "source": [
    "from abc import ABC, abstractmethod\n",
    "\n",
    "class Appliance(ABC):\n",
    "    @property\n",
    "    @abstractmethod\n",
    "    def power(self):\n",
    "        pass\n",
    "\n",
    "class WashingMachine(Appliance):\n",
    "    def __init__(self):\n",
    "        self._power = '200w'\n",
    "\n",
    "    @property\n",
    "    def power(self):\n",
    "        return self._power\n",
    "\n",
    "class Refrigerator(Appliance):\n",
    "    def __init__(self):\n",
    "        self._power = '500w'\n",
    "\n",
    "    @property\n",
    "    def power(self):\n",
    "        return self._power\n",
    "\n",
    "wmachine = WashingMachine()\n",
    "fridge = Refrigerator()\n",
    "\n",
    "print(wmachine.power)\n",
    "print(fridge.power)"
   ]
  },
  {
   "cell_type": "markdown",
   "metadata": {},
   "source": [
    "### Problem Solution 13"
   ]
  },
  {
   "cell_type": "code",
   "execution_count": 56,
   "metadata": {},
   "outputs": [
    {
     "name": "stdout",
     "output_type": "stream",
     "text": [
      "100000 23423423\n",
      "20100000\n"
     ]
    }
   ],
   "source": [
    "class Account:\n",
    "    def __init__(self):\n",
    "        self.__account_number = 23423423\n",
    "        self.__balance = 100000\n",
    "\n",
    "    @property\n",
    "    def getBalance(self):\n",
    "        return self.__balance\n",
    "\n",
    "    @getBalance.setter\n",
    "    def getBalance(self, amount):\n",
    "        if not amount <= 0:\n",
    "            self.__balance += amount\n",
    "\n",
    "        else:\n",
    "            print('Negative Value cannot be set')\n",
    "\n",
    "    @property\n",
    "    def getAccountNumber(self):\n",
    "        return self.__account_number\n",
    "\n",
    "    @getAccountNumber.setter\n",
    "    def getAccountNumber(self, number):\n",
    "        self.__account_number = number\n",
    "\n",
    "class SavingsAccount(Account):\n",
    "    def __init__(self, interest_rate):\n",
    "        super().__init__()\n",
    "        self.interest_rate = interest_rate\n",
    "\n",
    "obj = SavingsAccount(2)\n",
    "print(obj.getBalance, obj.getAccountNumber)\n",
    "obj.getBalance = 20000000\n",
    "print(obj.getBalance)"
   ]
  },
  {
   "cell_type": "markdown",
   "metadata": {},
   "source": [
    "### Problem Solution 14"
   ]
  },
  {
   "cell_type": "code",
   "execution_count": 60,
   "metadata": {},
   "outputs": [
    {
     "name": "stdout",
     "output_type": "stream",
     "text": [
      "Superhero is flying\n",
      "Flying\n",
      "Superhero is swimming\n",
      "Swimming\n"
     ]
    }
   ],
   "source": [
    "class Flyer:\n",
    "    def fly(self):\n",
    "        print('Flying')\n",
    "\n",
    "class Swimmer:\n",
    "    def swim(self):\n",
    "        print('Swimming')\n",
    "\n",
    "class SuperHero(Flyer, Swimmer):\n",
    "    def fly(self):\n",
    "        print('Superhero is flying')\n",
    "        Flyer.fly(self)\n",
    "\n",
    "    def swim(self):\n",
    "        print('Superhero is swimming')\n",
    "        super().swim()\n",
    "\n",
    "superman = SuperHero()\n",
    "superman.fly()\n",
    "superman.swim()"
   ]
  },
  {
   "cell_type": "markdown",
   "metadata": {},
   "source": [
    "### Problem Solution 15"
   ]
  },
  {
   "cell_type": "code",
   "execution_count": 61,
   "metadata": {},
   "outputs": [
    {
     "name": "stdout",
     "output_type": "stream",
     "text": [
      "Engineer is working\n"
     ]
    }
   ],
   "source": [
    "from abc import ABC, abstractmethod\n",
    "\n",
    "class Worker(ABC):\n",
    "    @abstractmethod\n",
    "    def work(self):\n",
    "        pass\n",
    "\n",
    "class Engineer(Worker):\n",
    "    def work(self):\n",
    "        print('Engineer is working')\n",
    "\n",
    "class Doctor(Worker):\n",
    "    def work(self):\n",
    "        print('Doctor is working')\n",
    "\n",
    "class Scientist(Engineer, Doctor):\n",
    "    pass\n",
    "\n",
    "person = Scientist()\n",
    "person.work()"
   ]
  },
  {
   "cell_type": "code",
   "execution_count": 6,
   "metadata": {},
   "outputs": [
    {
     "name": "stdout",
     "output_type": "stream",
     "text": [
      "3.14159265\n"
     ]
    }
   ],
   "source": [
    "class Math:\n",
    "    @staticmethod\n",
    "    def pi():\n",
    "        return 3.14159265\n",
    "\n",
    "print(Math.pi())"
   ]
  },
  {
   "cell_type": "code",
   "execution_count": 21,
   "metadata": {},
   "outputs": [],
   "source": [
    "class Counter:\n",
    "    value = 0\n",
    "\n",
    "    @classmethod\n",
    "    def count(cls):\n",
    "        cls.value += 1\n"
   ]
  },
  {
   "cell_type": "code",
   "execution_count": 30,
   "metadata": {},
   "outputs": [],
   "source": [
    "Counter.count()"
   ]
  },
  {
   "cell_type": "code",
   "execution_count": 31,
   "metadata": {},
   "outputs": [
    {
     "data": {
      "text/plain": [
       "5"
      ]
     },
     "execution_count": 31,
     "metadata": {},
     "output_type": "execute_result"
    }
   ],
   "source": [
    "Counter.value"
   ]
  }
 ],
 "metadata": {
  "kernelspec": {
   "display_name": "base",
   "language": "python",
   "name": "python3"
  },
  "language_info": {
   "codemirror_mode": {
    "name": "ipython",
    "version": 3
   },
   "file_extension": ".py",
   "mimetype": "text/x-python",
   "name": "python",
   "nbconvert_exporter": "python",
   "pygments_lexer": "ipython3",
   "version": "3.12.7"
  }
 },
 "nbformat": 4,
 "nbformat_minor": 2
}
