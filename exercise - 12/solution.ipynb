{
 "cells": [
  {
   "cell_type": "markdown",
   "metadata": {},
   "source": [
    "### Problem Solution 1"
   ]
  },
  {
   "cell_type": "code",
   "execution_count": 1,
   "metadata": {},
   "outputs": [
    {
     "name": "stdout",
     "output_type": "stream",
     "text": [
      "tommy dog labrador\n"
     ]
    }
   ],
   "source": [
    "class Animal:\n",
    "    def __init__(self, name, species):\n",
    "        self.name = name\n",
    "        self.species = species\n",
    "\n",
    "class Dog(Animal):\n",
    "    def __init__(self, name, species, breed):\n",
    "        super().__init__(name, species)\n",
    "        self.breed = breed\n",
    "\n",
    "labrador = Dog('tommy', 'dog', 'labrador')\n",
    "print(labrador.name, labrador.species, labrador.breed)"
   ]
  },
  {
   "cell_type": "markdown",
   "metadata": {},
   "source": [
    "### Problem Solution 2"
   ]
  },
  {
   "cell_type": "code",
   "execution_count": 2,
   "metadata": {},
   "outputs": [
    {
     "name": "stdout",
     "output_type": "stream",
     "text": [
      "tommy dog labrador\n",
      "Name: tommy, Species: dog, Breed: labrador\n"
     ]
    }
   ],
   "source": [
    "class Animal:\n",
    "    def __init__(self, name, species):\n",
    "        self.name = name\n",
    "        self.species = species\n",
    "\n",
    "class Dog(Animal):\n",
    "    def __init__(self, name, species, breed):\n",
    "        self.name = name\n",
    "        self.species = species\n",
    "        self.breed = breed\n",
    "\n",
    "        super().__init__(name, species)\n",
    "\n",
    "    def __str__(self):\n",
    "        return f'Name: {self.name}, Species: {self.species}, Breed: {self.breed}'\n",
    "\n",
    "labrador = Dog('tommy', 'dog', 'labrador')\n",
    "print(labrador.name, labrador.species, labrador.breed)\n",
    "print(labrador.__str__())"
   ]
  },
  {
   "cell_type": "markdown",
   "metadata": {},
   "source": [
    "### Problem Solution 3"
   ]
  },
  {
   "cell_type": "code",
   "execution_count": 3,
   "metadata": {},
   "outputs": [
    {
     "name": "stdout",
     "output_type": "stream",
     "text": [
      "tommy dog labrador\n",
      "Name: tommy, Species: dog, Breed: labrador\n",
      "Woh, woh\n"
     ]
    }
   ],
   "source": [
    "class Animal:\n",
    "    def __init__(self, name, species):\n",
    "        self.name = name\n",
    "        self.species = species\n",
    "\n",
    "class Dog(Animal):\n",
    "    def __init__(self, name, species, breed):\n",
    "        self.name = name\n",
    "        self.species = species\n",
    "        self.breed = breed\n",
    "\n",
    "        super().__init__(name, species)\n",
    "\n",
    "    def __str__(self):\n",
    "        return f'Name: {self.name}, Species: {self.species}, Breed: {self.breed}'\n",
    "\n",
    "    def bark(self):\n",
    "        print('Woh, woh')\n",
    "\n",
    "labrador = Dog('tommy', 'dog', 'labrador')\n",
    "print(labrador.name, labrador.species, labrador.breed)\n",
    "print(labrador.__str__())\n",
    "labrador.bark()"
   ]
  },
  {
   "cell_type": "markdown",
   "metadata": {},
   "source": [
    "### Problem Solution 4"
   ]
  },
  {
   "cell_type": "code",
   "execution_count": 4,
   "metadata": {},
   "outputs": [
    {
     "name": "stdout",
     "output_type": "stream",
     "text": [
      "Swimming\n",
      "Running\n",
      "Walking\n"
     ]
    }
   ],
   "source": [
    "class Walker:\n",
    "    def walk(self):\n",
    "        print('Walking')\n",
    "\n",
    "class Runner:\n",
    "    def run(self):\n",
    "        print('Running')\n",
    "\n",
    "class Athlete(Walker, Runner):\n",
    "    def swim(self):\n",
    "        print('Swimming')\n",
    "\n",
    "talha = Athlete()\n",
    "talha.swim()\n",
    "talha.run()\n",
    "talha.walk()"
   ]
  },
  {
   "cell_type": "markdown",
   "metadata": {},
   "source": [
    "### Problem Solution 5"
   ]
  },
  {
   "cell_type": "code",
   "execution_count": 8,
   "metadata": {},
   "outputs": [
    {
     "name": "stdout",
     "output_type": "stream",
     "text": [
      "Swimming\n",
      "Running\n",
      "Athlete is walking\n",
      "Walking\n"
     ]
    }
   ],
   "source": [
    "class Walker:\n",
    "    def walk(self):\n",
    "        print('Walking')\n",
    "\n",
    "class Runner:\n",
    "    def run(self):\n",
    "        print('Running')\n",
    "\n",
    "class Athlete(Walker, Runner):\n",
    "    def swim(self):\n",
    "        print('Swimming')\n",
    "\n",
    "    def walk(self):\n",
    "        print('Athlete is walking')\n",
    "        super().walk()\n",
    "\n",
    "talha = Athlete()\n",
    "talha.swim()\n",
    "talha.run()\n",
    "talha.walk()"
   ]
  },
  {
   "cell_type": "markdown",
   "metadata": {},
   "source": [
    "### Problem Solution 6"
   ]
  },
  {
   "cell_type": "code",
   "execution_count": 11,
   "metadata": {},
   "outputs": [
    {
     "name": "stdout",
     "output_type": "stream",
     "text": [
      "Athlete Trains for 8 hours\n"
     ]
    }
   ],
   "source": [
    "class Walker:\n",
    "    def walk(self):\n",
    "        print('Walking')\n",
    "\n",
    "class Runner:\n",
    "    def run(self):\n",
    "        print('Running')\n",
    "\n",
    "class Athlete(Walker, Runner):\n",
    "    def __init__(self, training_hour):\n",
    "        self.training_hour = training_hour\n",
    "\n",
    "    def swim(self):\n",
    "        print('Swimming')\n",
    "\n",
    "    def walk(self):\n",
    "        print('Athlete is walking')\n",
    "        super().walk()\n",
    "\n",
    "    def train(self):\n",
    "        print(f'Athlete Trains for {self.training_hour} hours')\n",
    "\n",
    "talha = Athlete(8)\n",
    "talha.train()"
   ]
  },
  {
   "cell_type": "markdown",
   "metadata": {},
   "source": [
    "### Problem Solution 7"
   ]
  },
  {
   "cell_type": "code",
   "execution_count": 14,
   "metadata": {},
   "outputs": [
    {
     "name": "stdout",
     "output_type": "stream",
     "text": [
      "C\n"
     ]
    }
   ],
   "source": [
    "class A:\n",
    "    def show(self):\n",
    "        print('A')\n",
    "\n",
    "class B(A):\n",
    "    def show(self):\n",
    "        print('B')\n",
    "\n",
    "class C(A):\n",
    "    def show(self):\n",
    "        print('C')\n",
    "\n",
    "class D(C, B):\n",
    "    pass\n",
    "\n",
    "d = D()\n",
    "d.show()"
   ]
  },
  {
   "cell_type": "markdown",
   "metadata": {},
   "source": [
    "### Problem Solution 8"
   ]
  },
  {
   "cell_type": "code",
   "execution_count": 15,
   "metadata": {},
   "outputs": [
    {
     "data": {
      "text/plain": [
       "(2, 'black')"
      ]
     },
     "execution_count": 15,
     "metadata": {},
     "output_type": "execute_result"
    }
   ],
   "source": [
    "class Shape:\n",
    "    def __init__(self, color):\n",
    "        self.color = color\n",
    "\n",
    "class Circle(Shape):\n",
    "    def __init__(self, color, radius):\n",
    "        self.radius = radius\n",
    "        super().__init__(color)\n",
    "\n",
    "obj = Circle('black', 2)\n",
    "obj.radius, obj.color"
   ]
  },
  {
   "cell_type": "markdown",
   "metadata": {},
   "source": [
    "### Problem Solution 9"
   ]
  },
  {
   "cell_type": "code",
   "execution_count": 16,
   "metadata": {},
   "outputs": [
    {
     "data": {
      "text/plain": [
       "('talha', 122)"
      ]
     },
     "execution_count": 16,
     "metadata": {},
     "output_type": "execute_result"
    }
   ],
   "source": [
    "class Person:\n",
    "    def __init__(self, name):\n",
    "        self.name = name\n",
    "\n",
    "class Employee:\n",
    "    def __init__(self, employee_id):\n",
    "        self.employee_id = employee_id\n",
    "\n",
    "class Manager(Person, Employee):\n",
    "    def __init__(self, name, employee_id):\n",
    "        Person.__init__(self, name)\n",
    "        Employee.__init__(self, employee_id)\n",
    "\n",
    "talha = Manager('talha', 122)\n",
    "talha.name, talha.employee_id"
   ]
  },
  {
   "cell_type": "markdown",
   "metadata": {},
   "source": [
    "### Problem Solution 10"
   ]
  },
  {
   "cell_type": "code",
   "execution_count": 19,
   "metadata": {},
   "outputs": [
    {
     "name": "stdout",
     "output_type": "stream",
     "text": [
      "Car m5 Started\n",
      "Vehicle Started\n"
     ]
    }
   ],
   "source": [
    "class Vehicle:\n",
    "    def start(self):\n",
    "        print('Vehicle Started')\n",
    "\n",
    "class Car(Vehicle):\n",
    "    def __init__(self, name):\n",
    "        self.name = name\n",
    "\n",
    "    def start(self):\n",
    "        print(f'Car {self.name} Started')\n",
    "        super().start()\n",
    "\n",
    "bmw = Car('m5')\n",
    "bmw.start()"
   ]
  },
  {
   "cell_type": "markdown",
   "metadata": {},
   "source": [
    "### Problem Solution 11"
   ]
  },
  {
   "cell_type": "code",
   "execution_count": 22,
   "metadata": {},
   "outputs": [
    {
     "name": "stdout",
     "output_type": "stream",
     "text": [
      "Swimming\n",
      "Flying\n"
     ]
    }
   ],
   "source": [
    "class Flyer:\n",
    "    def fly(self):\n",
    "        print('Flying')\n",
    "\n",
    "class Swimmer:\n",
    "    def swim(self):\n",
    "        print('Swimming')\n",
    "\n",
    "class SuperHero(Flyer, Swimmer):\n",
    "    def __init__(self, power, strength, health):\n",
    "        self.power = power\n",
    "        self.strength = strength\n",
    "        self.health = health\n",
    "\n",
    "superman = SuperHero('eye-laser', 100, 100)\n",
    "superman.swim()\n",
    "superman.fly()"
   ]
  },
  {
   "cell_type": "markdown",
   "metadata": {},
   "source": [
    "### Problem Solution 12"
   ]
  },
  {
   "cell_type": "code",
   "execution_count": 26,
   "metadata": {},
   "outputs": [
    {
     "name": "stdout",
     "output_type": "stream",
     "text": [
      "10 20 30\n"
     ]
    },
    {
     "data": {
      "text/plain": [
       "6000"
      ]
     },
     "execution_count": 26,
     "metadata": {},
     "output_type": "execute_result"
    }
   ],
   "source": [
    "class Base1:\n",
    "    def __init__(self, a):\n",
    "        self.a = a\n",
    "\n",
    "class Base2:\n",
    "    def __init__(self, b):\n",
    "        self.b = b\n",
    "\n",
    "class Derived(Base1, Base2):\n",
    "    def __init__(self, a, b, c):\n",
    "        self.a = a\n",
    "        self.b = b\n",
    "        self.c = c\n",
    "\n",
    "        Base1.__init__(self, a)\n",
    "        Base2.__init__(self, b)\n",
    "\n",
    "    def submision(self):\n",
    "        return self.a * self.b * self.c\n",
    "\n",
    "obj = Derived(10, 20, 30)\n",
    "print(obj.a, obj.b, obj.c)\n",
    "obj.submision()"
   ]
  },
  {
   "cell_type": "markdown",
   "metadata": {},
   "source": [
    "### Problem Solution 13"
   ]
  },
  {
   "cell_type": "code",
   "execution_count": 35,
   "metadata": {},
   "outputs": [
    {
     "name": "stdout",
     "output_type": "stream",
     "text": [
      "True\n",
      "True\n",
      "False\n"
     ]
    }
   ],
   "source": [
    "class Animal:\n",
    "    pass\n",
    "\n",
    "class Cat(Animal):\n",
    "    pass\n",
    "\n",
    "obj1 = Animal()\n",
    "obj2 = Cat()\n",
    "\n",
    "print(isinstance(obj1, Animal))\n",
    "print(isinstance(obj2, Animal))\n",
    "print(isinstance(obj1, Cat))"
   ]
  },
  {
   "cell_type": "markdown",
   "metadata": {},
   "source": [
    "### Problem Solution 14"
   ]
  },
  {
   "cell_type": "code",
   "execution_count": 37,
   "metadata": {},
   "outputs": [
    {
     "name": "stdout",
     "output_type": "stream",
     "text": [
      "Bird Speaking\n",
      "Parrot Speaking\n",
      "penguin Speaking\n"
     ]
    }
   ],
   "source": [
    "class Bird:\n",
    "    def speak(self):\n",
    "        print('Bird Speaking')\n",
    "\n",
    "class Parrot(Bird):\n",
    "    def speak(self):\n",
    "        print('Parrot Speaking')\n",
    "\n",
    "class Penguin(Bird):\n",
    "    def speak(self):\n",
    "        print('penguin Speaking')\n",
    "\n",
    "def polymorphism(obj):\n",
    "    obj.speak()\n",
    "\n",
    "obj1 = Bird()\n",
    "obj2 = Parrot()\n",
    "obj3 = Penguin()\n",
    "\n",
    "lst = [obj1, obj2, obj3]\n",
    "\n",
    "for obj in lst:\n",
    "    polymorphism(obj)"
   ]
  },
  {
   "cell_type": "markdown",
   "metadata": {},
   "source": [
    "### Problem Solution 15"
   ]
  },
  {
   "cell_type": "code",
   "execution_count": 39,
   "metadata": {},
   "outputs": [
    {
     "data": {
      "text/plain": [
       "('Apple', 'iphone16', 250)"
      ]
     },
     "execution_count": 39,
     "metadata": {},
     "output_type": "execute_result"
    }
   ],
   "source": [
    "class Device:\n",
    "    def __init__(self, brand):\n",
    "        self.brand = brand\n",
    "\n",
    "class Phone(Device):\n",
    "    def __init__(self, model):\n",
    "        self.model = model\n",
    "\n",
    "class Camera:\n",
    "    def __init__(self, resolution):\n",
    "        self.resolution = resolution\n",
    "\n",
    "class Smartphone(Phone, Camera):\n",
    "    def __init__(self, brand, model, resolution):\n",
    "        Device.__init__(self, brand)\n",
    "        Phone.__init__(self, model)\n",
    "        Camera.__init__(self, resolution)\n",
    "\n",
    "iphone = Smartphone('Apple', 'iphone16', 250)\n",
    "iphone.brand, iphone.model, iphone.resolution"
   ]
  },
  {
   "cell_type": "code",
   "execution_count": null,
   "metadata": {},
   "outputs": [],
   "source": []
  }
 ],
 "metadata": {
  "kernelspec": {
   "display_name": "base",
   "language": "python",
   "name": "python3"
  },
  "language_info": {
   "codemirror_mode": {
    "name": "ipython",
    "version": 3
   },
   "file_extension": ".py",
   "mimetype": "text/x-python",
   "name": "python",
   "nbconvert_exporter": "python",
   "pygments_lexer": "ipython3",
   "version": "3.12.7"
  }
 },
 "nbformat": 4,
 "nbformat_minor": 2
}
